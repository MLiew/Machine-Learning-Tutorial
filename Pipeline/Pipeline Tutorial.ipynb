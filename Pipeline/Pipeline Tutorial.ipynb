{
 "cells": [
  {
   "cell_type": "markdown",
   "metadata": {},
   "source": [
    "## Import libraries 导入库"
   ]
  },
  {
   "cell_type": "code",
   "execution_count": 1,
   "metadata": {
    "collapsed": true
   },
   "outputs": [],
   "source": [
    "import pandas as pd\n",
    "import numpy as np\n",
    "\n",
    "from sklearn import datasets\n",
    "from sklearn.decomposition import PCA\n",
    "from sklearn.model_selection import train_test_split, GridSearchCV\n",
    "from sklearn.tree import DecisionTreeClassifier\n",
    "from sklearn.pipeline import Pipeline\n",
    "from sklearn.preprocessing import StandardScaler"
   ]
  },
  {
   "cell_type": "markdown",
   "metadata": {},
   "source": [
    "## Load datasets 加载数据集"
   ]
  },
  {
   "cell_type": "code",
   "execution_count": 2,
   "metadata": {
    "collapsed": true
   },
   "outputs": [],
   "source": [
    "# Using \"red wine dataset\"\n",
    "# Labels: quality of wine, range from 1-10\n",
    "wine_x, wine_y = datasets.load_wine(return_X_y=True)"
   ]
  },
  {
   "cell_type": "code",
   "execution_count": 3,
   "metadata": {
    "collapsed": true
   },
   "outputs": [],
   "source": [
    "wine_df_x = pd.DataFrame(wine_x, columns=['Alcohol', 'Malic acid', 'Ash', 'Alcalinity of ash', 'Magnesium', \n",
    "                                          'Total phenols', 'Flavanoids', 'Nonflavanoid phenols', 'Proanthocyanins', \n",
    "                                          'Color intensity', 'Hue', 'OD280/OD315', 'Proline'])\n",
    "wine_df_y = pd.DataFrame(wine_y, columns=['Target'])"
   ]
  },
  {
   "cell_type": "code",
   "execution_count": 4,
   "metadata": {},
   "outputs": [
    {
     "data": {
      "text/html": [
       "<div>\n",
       "<style scoped>\n",
       "    .dataframe tbody tr th:only-of-type {\n",
       "        vertical-align: middle;\n",
       "    }\n",
       "\n",
       "    .dataframe tbody tr th {\n",
       "        vertical-align: top;\n",
       "    }\n",
       "\n",
       "    .dataframe thead th {\n",
       "        text-align: right;\n",
       "    }\n",
       "</style>\n",
       "<table border=\"1\" class=\"dataframe\">\n",
       "  <thead>\n",
       "    <tr style=\"text-align: right;\">\n",
       "      <th></th>\n",
       "      <th>Alcohol</th>\n",
       "      <th>Malic acid</th>\n",
       "      <th>Ash</th>\n",
       "      <th>Alcalinity of ash</th>\n",
       "      <th>Magnesium</th>\n",
       "      <th>Total phenols</th>\n",
       "      <th>Flavanoids</th>\n",
       "      <th>Nonflavanoid phenols</th>\n",
       "      <th>Proanthocyanins</th>\n",
       "      <th>Color intensity</th>\n",
       "      <th>Hue</th>\n",
       "      <th>OD280/OD315</th>\n",
       "      <th>Proline</th>\n",
       "    </tr>\n",
       "  </thead>\n",
       "  <tbody>\n",
       "    <tr>\n",
       "      <th>0</th>\n",
       "      <td>14.23</td>\n",
       "      <td>1.71</td>\n",
       "      <td>2.43</td>\n",
       "      <td>15.6</td>\n",
       "      <td>127.0</td>\n",
       "      <td>2.80</td>\n",
       "      <td>3.06</td>\n",
       "      <td>0.28</td>\n",
       "      <td>2.29</td>\n",
       "      <td>5.64</td>\n",
       "      <td>1.04</td>\n",
       "      <td>3.92</td>\n",
       "      <td>1065.0</td>\n",
       "    </tr>\n",
       "    <tr>\n",
       "      <th>1</th>\n",
       "      <td>13.20</td>\n",
       "      <td>1.78</td>\n",
       "      <td>2.14</td>\n",
       "      <td>11.2</td>\n",
       "      <td>100.0</td>\n",
       "      <td>2.65</td>\n",
       "      <td>2.76</td>\n",
       "      <td>0.26</td>\n",
       "      <td>1.28</td>\n",
       "      <td>4.38</td>\n",
       "      <td>1.05</td>\n",
       "      <td>3.40</td>\n",
       "      <td>1050.0</td>\n",
       "    </tr>\n",
       "    <tr>\n",
       "      <th>2</th>\n",
       "      <td>13.16</td>\n",
       "      <td>2.36</td>\n",
       "      <td>2.67</td>\n",
       "      <td>18.6</td>\n",
       "      <td>101.0</td>\n",
       "      <td>2.80</td>\n",
       "      <td>3.24</td>\n",
       "      <td>0.30</td>\n",
       "      <td>2.81</td>\n",
       "      <td>5.68</td>\n",
       "      <td>1.03</td>\n",
       "      <td>3.17</td>\n",
       "      <td>1185.0</td>\n",
       "    </tr>\n",
       "    <tr>\n",
       "      <th>3</th>\n",
       "      <td>14.37</td>\n",
       "      <td>1.95</td>\n",
       "      <td>2.50</td>\n",
       "      <td>16.8</td>\n",
       "      <td>113.0</td>\n",
       "      <td>3.85</td>\n",
       "      <td>3.49</td>\n",
       "      <td>0.24</td>\n",
       "      <td>2.18</td>\n",
       "      <td>7.80</td>\n",
       "      <td>0.86</td>\n",
       "      <td>3.45</td>\n",
       "      <td>1480.0</td>\n",
       "    </tr>\n",
       "    <tr>\n",
       "      <th>4</th>\n",
       "      <td>13.24</td>\n",
       "      <td>2.59</td>\n",
       "      <td>2.87</td>\n",
       "      <td>21.0</td>\n",
       "      <td>118.0</td>\n",
       "      <td>2.80</td>\n",
       "      <td>2.69</td>\n",
       "      <td>0.39</td>\n",
       "      <td>1.82</td>\n",
       "      <td>4.32</td>\n",
       "      <td>1.04</td>\n",
       "      <td>2.93</td>\n",
       "      <td>735.0</td>\n",
       "    </tr>\n",
       "  </tbody>\n",
       "</table>\n",
       "</div>"
      ],
      "text/plain": [
       "   Alcohol  Malic acid   Ash  Alcalinity of ash  Magnesium  Total phenols  \\\n",
       "0    14.23        1.71  2.43               15.6      127.0           2.80   \n",
       "1    13.20        1.78  2.14               11.2      100.0           2.65   \n",
       "2    13.16        2.36  2.67               18.6      101.0           2.80   \n",
       "3    14.37        1.95  2.50               16.8      113.0           3.85   \n",
       "4    13.24        2.59  2.87               21.0      118.0           2.80   \n",
       "\n",
       "   Flavanoids  Nonflavanoid phenols  Proanthocyanins  Color intensity   Hue  \\\n",
       "0        3.06                  0.28             2.29             5.64  1.04   \n",
       "1        2.76                  0.26             1.28             4.38  1.05   \n",
       "2        3.24                  0.30             2.81             5.68  1.03   \n",
       "3        3.49                  0.24             2.18             7.80  0.86   \n",
       "4        2.69                  0.39             1.82             4.32  1.04   \n",
       "\n",
       "   OD280/OD315  Proline  \n",
       "0         3.92   1065.0  \n",
       "1         3.40   1050.0  \n",
       "2         3.17   1185.0  \n",
       "3         3.45   1480.0  \n",
       "4         2.93    735.0  "
      ]
     },
     "execution_count": 4,
     "metadata": {},
     "output_type": "execute_result"
    }
   ],
   "source": [
    "wine_df_x.head()"
   ]
  },
  {
   "cell_type": "markdown",
   "metadata": {},
   "source": [
    "## Split the dataset into train and test set. 将数据集分为测试和训练数据集。"
   ]
  },
  {
   "cell_type": "code",
   "execution_count": 6,
   "metadata": {},
   "outputs": [],
   "source": [
    "x_train, x_test, y_train, y_test = train_test_split(wine_df_x, wine_df_y, \n",
    "                                                    test_size=0.2, random_state=40, stratify=wine_df_y)"
   ]
  },
  {
   "cell_type": "code",
   "execution_count": 7,
   "metadata": {},
   "outputs": [
    {
     "name": "stdout",
     "output_type": "stream",
     "text": [
      "<class 'pandas.core.frame.DataFrame'>\n",
      "Int64Index: 142 entries, 26 to 48\n",
      "Data columns (total 13 columns):\n",
      " #   Column                Non-Null Count  Dtype  \n",
      "---  ------                --------------  -----  \n",
      " 0   Alcohol               142 non-null    float64\n",
      " 1   Malic acid            142 non-null    float64\n",
      " 2   Ash                   142 non-null    float64\n",
      " 3   Alcalinity of ash     142 non-null    float64\n",
      " 4   Magnesium             142 non-null    float64\n",
      " 5   Total phenols         142 non-null    float64\n",
      " 6   Flavanoids            142 non-null    float64\n",
      " 7   Nonflavanoid phenols  142 non-null    float64\n",
      " 8   Proanthocyanins       142 non-null    float64\n",
      " 9   Color intensity       142 non-null    float64\n",
      " 10  Hue                   142 non-null    float64\n",
      " 11  OD280/OD315           142 non-null    float64\n",
      " 12  Proline               142 non-null    float64\n",
      "dtypes: float64(13)\n",
      "memory usage: 15.5 KB\n"
     ]
    }
   ],
   "source": [
    "x_train.info()"
   ]
  },
  {
   "cell_type": "markdown",
   "metadata": {},
   "source": [
    "## Create pipeline. 创建Pipeline。"
   ]
  },
  {
   "cell_type": "code",
   "execution_count": 8,
   "metadata": {
    "collapsed": true
   },
   "outputs": [],
   "source": [
    "# define steps that need to be in the pipeline\n",
    "steps = [('scaler', StandardScaler()), ('PCA', PCA()), ('DCT', DecisionTreeClassifier())]"
   ]
  },
  {
   "cell_type": "code",
   "execution_count": 9,
   "metadata": {
    "collapsed": true
   },
   "outputs": [],
   "source": [
    "# create pipeline object\n",
    "pipeline = Pipeline(steps)"
   ]
  },
  {
   "cell_type": "code",
   "execution_count": 10,
   "metadata": {},
   "outputs": [
    {
     "data": {
      "text/plain": [
       "Pipeline(memory=None,\n",
       "         steps=[('scaler',\n",
       "                 StandardScaler(copy=True, with_mean=True, with_std=True)),\n",
       "                ('PCA',\n",
       "                 PCA(copy=True, iterated_power='auto', n_components=None,\n",
       "                     random_state=None, svd_solver='auto', tol=0.0,\n",
       "                     whiten=False)),\n",
       "                ('DCT',\n",
       "                 DecisionTreeClassifier(ccp_alpha=0.0, class_weight=None,\n",
       "                                        criterion='gini', max_depth=None,\n",
       "                                        max_features=None, max_leaf_nodes=None,\n",
       "                                        min_impurity_decrease=0.0,\n",
       "                                        min_impurity_split=None,\n",
       "                                        min_samples_leaf=1, min_samples_split=2,\n",
       "                                        min_weight_fraction_leaf=0.0,\n",
       "                                        presort='deprecated', random_state=None,\n",
       "                                        splitter='best'))],\n",
       "         verbose=False)"
      ]
     },
     "execution_count": 10,
     "metadata": {},
     "output_type": "execute_result"
    }
   ],
   "source": [
    "pipeline.fit(x_train, y_train)"
   ]
  },
  {
   "cell_type": "code",
   "execution_count": 11,
   "metadata": {},
   "outputs": [
    {
     "data": {
      "text/plain": [
       "0.9444444444444444"
      ]
     },
     "execution_count": 11,
     "metadata": {},
     "output_type": "execute_result"
    }
   ],
   "source": [
    "pipeline.score(x_test, y_test)"
   ]
  },
  {
   "cell_type": "markdown",
   "metadata": {},
   "source": [
    "## Use Pipeline with GridSearchCV. 结合使用Pipeline和GridSearchCV。"
   ]
  },
  {
   "cell_type": "code",
   "execution_count": 12,
   "metadata": {
    "collapsed": true
   },
   "outputs": [],
   "source": [
    "# define steps that need to be in the pipeline\n",
    "steps_cv = [('scaler', StandardScaler()), ('PCA', PCA()), ('DCT', DecisionTreeClassifier())]"
   ]
  },
  {
   "cell_type": "code",
   "execution_count": 13,
   "metadata": {
    "collapsed": true
   },
   "outputs": [],
   "source": [
    "pipeline_cv = Pipeline(steps_cv)"
   ]
  },
  {
   "cell_type": "code",
   "execution_count": 14,
   "metadata": {
    "collapsed": true
   },
   "outputs": [],
   "source": [
    "# create a dictionary with parameters\n",
    "parameters = {'DCT__criterion':['gini', 'entropy'], 'DCT__random_state':[10,20], 'DCT__max_depth':[5,10,15,20,25,30]}"
   ]
  },
  {
   "cell_type": "code",
   "execution_count": 15,
   "metadata": {
    "collapsed": true
   },
   "outputs": [],
   "source": [
    "# create a gridsearchCV object\n",
    "grid_cv = GridSearchCV(pipeline, param_grid=parameters, cv=10)"
   ]
  },
  {
   "cell_type": "code",
   "execution_count": 16,
   "metadata": {},
   "outputs": [
    {
     "data": {
      "text/plain": [
       "GridSearchCV(cv=10, error_score=nan,\n",
       "             estimator=Pipeline(memory=None,\n",
       "                                steps=[('scaler',\n",
       "                                        StandardScaler(copy=True,\n",
       "                                                       with_mean=True,\n",
       "                                                       with_std=True)),\n",
       "                                       ('PCA',\n",
       "                                        PCA(copy=True, iterated_power='auto',\n",
       "                                            n_components=None,\n",
       "                                            random_state=None,\n",
       "                                            svd_solver='auto', tol=0.0,\n",
       "                                            whiten=False)),\n",
       "                                       ('DCT',\n",
       "                                        DecisionTreeClassifier(ccp_alpha=0.0,\n",
       "                                                               class_weight=None,\n",
       "                                                               criterion='gini',\n",
       "                                                               max_depth=No...\n",
       "                                                               min_samples_leaf=1,\n",
       "                                                               min_samples_split=2,\n",
       "                                                               min_weight_fraction_leaf=0.0,\n",
       "                                                               presort='deprecated',\n",
       "                                                               random_state=None,\n",
       "                                                               splitter='best'))],\n",
       "                                verbose=False),\n",
       "             iid='deprecated', n_jobs=None,\n",
       "             param_grid={'DCT__criterion': ['gini', 'entropy'],\n",
       "                         'DCT__max_depth': [5, 10, 15, 20, 25, 30],\n",
       "                         'DCT__random_state': [10, 20]},\n",
       "             pre_dispatch='2*n_jobs', refit=True, return_train_score=False,\n",
       "             scoring=None, verbose=0)"
      ]
     },
     "execution_count": 16,
     "metadata": {},
     "output_type": "execute_result"
    }
   ],
   "source": [
    "# fit the training dataset on grid_cv\n",
    "grid_cv.fit(x_train, y_train)"
   ]
  },
  {
   "cell_type": "code",
   "execution_count": 17,
   "metadata": {},
   "outputs": [
    {
     "data": {
      "text/plain": [
       "{'mean_fit_time': array([0.01266522, 0.00648103, 0.00684102, 0.00667949, 0.00688508,\n",
       "        0.00669038, 0.00637984, 0.00667729, 0.00718038, 0.0108655 ,\n",
       "        0.01206846, 0.00953116, 0.0133673 , 0.03121681, 0.01805124,\n",
       "        0.01117084, 0.00957658, 0.00907316, 0.00937455, 0.00847352,\n",
       "        0.01005404, 0.01924884, 0.01371317, 0.01047213]),\n",
       " 'mean_score_time': array([0.00229445, 0.00139437, 0.00178385, 0.00169773, 0.00129595,\n",
       "        0.00178933, 0.00139613, 0.00149567, 0.00199516, 0.00269299,\n",
       "        0.00279198, 0.00289037, 0.00379093, 0.00787911, 0.00469103,\n",
       "        0.00478668, 0.00359097, 0.00209999, 0.00219228, 0.00165012,\n",
       "        0.002491  , 0.00488696, 0.00289228, 0.00209455]),\n",
       " 'mean_test_score': array([0.93666667, 0.93666667, 0.93666667, 0.93666667, 0.93666667,\n",
       "        0.93666667, 0.93666667, 0.93666667, 0.93666667, 0.93666667,\n",
       "        0.93666667, 0.93666667, 0.94380952, 0.95095238, 0.94380952,\n",
       "        0.95095238, 0.94380952, 0.95095238, 0.94380952, 0.95095238,\n",
       "        0.94380952, 0.95095238, 0.94380952, 0.95095238]),\n",
       " 'param_DCT__criterion': masked_array(data=['gini', 'gini', 'gini', 'gini', 'gini', 'gini', 'gini',\n",
       "                    'gini', 'gini', 'gini', 'gini', 'gini', 'entropy',\n",
       "                    'entropy', 'entropy', 'entropy', 'entropy', 'entropy',\n",
       "                    'entropy', 'entropy', 'entropy', 'entropy', 'entropy',\n",
       "                    'entropy'],\n",
       "              mask=[False, False, False, False, False, False, False, False,\n",
       "                    False, False, False, False, False, False, False, False,\n",
       "                    False, False, False, False, False, False, False, False],\n",
       "        fill_value='?',\n",
       "             dtype=object),\n",
       " 'param_DCT__max_depth': masked_array(data=[5, 5, 10, 10, 15, 15, 20, 20, 25, 25, 30, 30, 5, 5, 10,\n",
       "                    10, 15, 15, 20, 20, 25, 25, 30, 30],\n",
       "              mask=[False, False, False, False, False, False, False, False,\n",
       "                    False, False, False, False, False, False, False, False,\n",
       "                    False, False, False, False, False, False, False, False],\n",
       "        fill_value='?',\n",
       "             dtype=object),\n",
       " 'param_DCT__random_state': masked_array(data=[10, 20, 10, 20, 10, 20, 10, 20, 10, 20, 10, 20, 10, 20,\n",
       "                    10, 20, 10, 20, 10, 20, 10, 20, 10, 20],\n",
       "              mask=[False, False, False, False, False, False, False, False,\n",
       "                    False, False, False, False, False, False, False, False,\n",
       "                    False, False, False, False, False, False, False, False],\n",
       "        fill_value='?',\n",
       "             dtype=object),\n",
       " 'params': [{'DCT__criterion': 'gini',\n",
       "   'DCT__max_depth': 5,\n",
       "   'DCT__random_state': 10},\n",
       "  {'DCT__criterion': 'gini', 'DCT__max_depth': 5, 'DCT__random_state': 20},\n",
       "  {'DCT__criterion': 'gini', 'DCT__max_depth': 10, 'DCT__random_state': 10},\n",
       "  {'DCT__criterion': 'gini', 'DCT__max_depth': 10, 'DCT__random_state': 20},\n",
       "  {'DCT__criterion': 'gini', 'DCT__max_depth': 15, 'DCT__random_state': 10},\n",
       "  {'DCT__criterion': 'gini', 'DCT__max_depth': 15, 'DCT__random_state': 20},\n",
       "  {'DCT__criterion': 'gini', 'DCT__max_depth': 20, 'DCT__random_state': 10},\n",
       "  {'DCT__criterion': 'gini', 'DCT__max_depth': 20, 'DCT__random_state': 20},\n",
       "  {'DCT__criterion': 'gini', 'DCT__max_depth': 25, 'DCT__random_state': 10},\n",
       "  {'DCT__criterion': 'gini', 'DCT__max_depth': 25, 'DCT__random_state': 20},\n",
       "  {'DCT__criterion': 'gini', 'DCT__max_depth': 30, 'DCT__random_state': 10},\n",
       "  {'DCT__criterion': 'gini', 'DCT__max_depth': 30, 'DCT__random_state': 20},\n",
       "  {'DCT__criterion': 'entropy', 'DCT__max_depth': 5, 'DCT__random_state': 10},\n",
       "  {'DCT__criterion': 'entropy', 'DCT__max_depth': 5, 'DCT__random_state': 20},\n",
       "  {'DCT__criterion': 'entropy', 'DCT__max_depth': 10, 'DCT__random_state': 10},\n",
       "  {'DCT__criterion': 'entropy', 'DCT__max_depth': 10, 'DCT__random_state': 20},\n",
       "  {'DCT__criterion': 'entropy', 'DCT__max_depth': 15, 'DCT__random_state': 10},\n",
       "  {'DCT__criterion': 'entropy', 'DCT__max_depth': 15, 'DCT__random_state': 20},\n",
       "  {'DCT__criterion': 'entropy', 'DCT__max_depth': 20, 'DCT__random_state': 10},\n",
       "  {'DCT__criterion': 'entropy', 'DCT__max_depth': 20, 'DCT__random_state': 20},\n",
       "  {'DCT__criterion': 'entropy', 'DCT__max_depth': 25, 'DCT__random_state': 10},\n",
       "  {'DCT__criterion': 'entropy', 'DCT__max_depth': 25, 'DCT__random_state': 20},\n",
       "  {'DCT__criterion': 'entropy', 'DCT__max_depth': 30, 'DCT__random_state': 10},\n",
       "  {'DCT__criterion': 'entropy',\n",
       "   'DCT__max_depth': 30,\n",
       "   'DCT__random_state': 20}],\n",
       " 'rank_test_score': array([13, 13, 13, 13, 13, 13, 13, 13, 13, 13, 13, 13,  7,  1,  7,  1,  7,\n",
       "         1,  7,  1,  7,  1,  7,  1]),\n",
       " 'split0_test_score': array([0.93333333, 0.93333333, 0.93333333, 0.93333333, 0.93333333,\n",
       "        0.93333333, 0.93333333, 0.93333333, 0.93333333, 0.93333333,\n",
       "        0.93333333, 0.93333333, 0.93333333, 0.93333333, 0.93333333,\n",
       "        0.93333333, 0.93333333, 0.93333333, 0.93333333, 0.93333333,\n",
       "        0.93333333, 0.93333333, 0.93333333, 0.93333333]),\n",
       " 'split1_test_score': array([0.93333333, 0.93333333, 0.93333333, 0.93333333, 0.93333333,\n",
       "        0.93333333, 0.93333333, 0.93333333, 0.93333333, 0.93333333,\n",
       "        0.93333333, 0.93333333, 0.93333333, 0.93333333, 0.93333333,\n",
       "        0.93333333, 0.93333333, 0.93333333, 0.93333333, 0.93333333,\n",
       "        0.93333333, 0.93333333, 0.93333333, 0.93333333]),\n",
       " 'split2_test_score': array([0.85714286, 0.92857143, 0.85714286, 0.92857143, 0.85714286,\n",
       "        0.92857143, 0.85714286, 0.92857143, 0.85714286, 0.92857143,\n",
       "        0.85714286, 0.92857143, 0.85714286, 0.92857143, 0.85714286,\n",
       "        0.92857143, 0.85714286, 0.92857143, 0.85714286, 0.92857143,\n",
       "        0.85714286, 0.92857143, 0.85714286, 0.92857143]),\n",
       " 'split3_test_score': array([1., 1., 1., 1., 1., 1., 1., 1., 1., 1., 1., 1., 1., 1., 1., 1., 1.,\n",
       "        1., 1., 1., 1., 1., 1., 1.]),\n",
       " 'split4_test_score': array([0.85714286, 0.85714286, 0.85714286, 0.85714286, 0.85714286,\n",
       "        0.85714286, 0.85714286, 0.85714286, 0.85714286, 0.85714286,\n",
       "        0.85714286, 0.85714286, 0.85714286, 0.85714286, 0.85714286,\n",
       "        0.85714286, 0.85714286, 0.85714286, 0.85714286, 0.85714286,\n",
       "        0.85714286, 0.85714286, 0.85714286, 0.85714286]),\n",
       " 'split5_test_score': array([1., 1., 1., 1., 1., 1., 1., 1., 1., 1., 1., 1., 1., 1., 1., 1., 1.,\n",
       "        1., 1., 1., 1., 1., 1., 1.]),\n",
       " 'split6_test_score': array([1., 1., 1., 1., 1., 1., 1., 1., 1., 1., 1., 1., 1., 1., 1., 1., 1.,\n",
       "        1., 1., 1., 1., 1., 1., 1.]),\n",
       " 'split7_test_score': array([0.92857143, 0.92857143, 0.92857143, 0.92857143, 0.92857143,\n",
       "        0.92857143, 0.92857143, 0.92857143, 0.92857143, 0.92857143,\n",
       "        0.92857143, 0.92857143, 1.        , 1.        , 1.        ,\n",
       "        1.        , 1.        , 1.        , 1.        , 1.        ,\n",
       "        1.        , 1.        , 1.        , 1.        ]),\n",
       " 'split8_test_score': array([0.92857143, 0.85714286, 0.92857143, 0.85714286, 0.92857143,\n",
       "        0.85714286, 0.92857143, 0.85714286, 0.92857143, 0.85714286,\n",
       "        0.92857143, 0.85714286, 0.92857143, 0.92857143, 0.92857143,\n",
       "        0.92857143, 0.92857143, 0.92857143, 0.92857143, 0.92857143,\n",
       "        0.92857143, 0.92857143, 0.92857143, 0.92857143]),\n",
       " 'split9_test_score': array([0.92857143, 0.92857143, 0.92857143, 0.92857143, 0.92857143,\n",
       "        0.92857143, 0.92857143, 0.92857143, 0.92857143, 0.92857143,\n",
       "        0.92857143, 0.92857143, 0.92857143, 0.92857143, 0.92857143,\n",
       "        0.92857143, 0.92857143, 0.92857143, 0.92857143, 0.92857143,\n",
       "        0.92857143, 0.92857143, 0.92857143, 0.92857143]),\n",
       " 'std_fit_time': array([0.00749113, 0.00049658, 0.00070829, 0.0006334 , 0.00052692,\n",
       "        0.00099387, 0.00079553, 0.00063592, 0.00182846, 0.00258311,\n",
       "        0.00206531, 0.00145107, 0.01327688, 0.0105269 , 0.00446951,\n",
       "        0.00327142, 0.00154827, 0.00121554, 0.00261546, 0.00127957,\n",
       "        0.00344941, 0.00362815, 0.00174815, 0.00190455]),\n",
       " 'std_score_time': array([0.00109801, 0.00048553, 0.00117112, 0.00064368, 0.00045681,\n",
       "        0.0007402 , 0.00048905, 0.00049918, 0.00063085, 0.00100236,\n",
       "        0.00116295, 0.00113135, 0.00542136, 0.0030723 , 0.00383735,\n",
       "        0.0024751 , 0.00205069, 0.00070042, 0.00087036, 0.00089445,\n",
       "        0.00195862, 0.00237929, 0.00121634, 0.00029904]),\n",
       " 'std_test_score': array([0.04990013, 0.04990013, 0.04990013, 0.04990013, 0.04990013,\n",
       "        0.04990013, 0.04990013, 0.04990013, 0.04990013, 0.04990013,\n",
       "        0.04990013, 0.04990013, 0.05323119, 0.04532823, 0.05323119,\n",
       "        0.04532823, 0.05323119, 0.04532823, 0.05323119, 0.04532823,\n",
       "        0.05323119, 0.04532823, 0.05323119, 0.04532823])}"
      ]
     },
     "execution_count": 17,
     "metadata": {},
     "output_type": "execute_result"
    }
   ],
   "source": [
    "grid_cv.cv_results_"
   ]
  },
  {
   "cell_type": "code",
   "execution_count": 18,
   "metadata": {
    "collapsed": true
   },
   "outputs": [],
   "source": [
    "# create a dataframe to have better understanding of the cross validation results\n",
    "grid_cv_df = pd.DataFrame(grid_cv.cv_results_)"
   ]
  },
  {
   "cell_type": "code",
   "execution_count": 19,
   "metadata": {},
   "outputs": [
    {
     "data": {
      "text/html": [
       "<div>\n",
       "<style scoped>\n",
       "    .dataframe tbody tr th:only-of-type {\n",
       "        vertical-align: middle;\n",
       "    }\n",
       "\n",
       "    .dataframe tbody tr th {\n",
       "        vertical-align: top;\n",
       "    }\n",
       "\n",
       "    .dataframe thead th {\n",
       "        text-align: right;\n",
       "    }\n",
       "</style>\n",
       "<table border=\"1\" class=\"dataframe\">\n",
       "  <thead>\n",
       "    <tr style=\"text-align: right;\">\n",
       "      <th></th>\n",
       "      <th>mean_fit_time</th>\n",
       "      <th>std_fit_time</th>\n",
       "      <th>mean_score_time</th>\n",
       "      <th>std_score_time</th>\n",
       "      <th>param_DCT__criterion</th>\n",
       "      <th>param_DCT__max_depth</th>\n",
       "      <th>param_DCT__random_state</th>\n",
       "      <th>params</th>\n",
       "      <th>split0_test_score</th>\n",
       "      <th>split1_test_score</th>\n",
       "      <th>...</th>\n",
       "      <th>split3_test_score</th>\n",
       "      <th>split4_test_score</th>\n",
       "      <th>split5_test_score</th>\n",
       "      <th>split6_test_score</th>\n",
       "      <th>split7_test_score</th>\n",
       "      <th>split8_test_score</th>\n",
       "      <th>split9_test_score</th>\n",
       "      <th>mean_test_score</th>\n",
       "      <th>std_test_score</th>\n",
       "      <th>rank_test_score</th>\n",
       "    </tr>\n",
       "  </thead>\n",
       "  <tbody>\n",
       "    <tr>\n",
       "      <th>0</th>\n",
       "      <td>0.012665</td>\n",
       "      <td>0.007491</td>\n",
       "      <td>0.002294</td>\n",
       "      <td>0.001098</td>\n",
       "      <td>gini</td>\n",
       "      <td>5</td>\n",
       "      <td>10</td>\n",
       "      <td>{'DCT__criterion': 'gini', 'DCT__max_depth': 5...</td>\n",
       "      <td>0.933333</td>\n",
       "      <td>0.933333</td>\n",
       "      <td>...</td>\n",
       "      <td>1.0</td>\n",
       "      <td>0.857143</td>\n",
       "      <td>1.0</td>\n",
       "      <td>1.0</td>\n",
       "      <td>0.928571</td>\n",
       "      <td>0.928571</td>\n",
       "      <td>0.928571</td>\n",
       "      <td>0.936667</td>\n",
       "      <td>0.0499</td>\n",
       "      <td>13</td>\n",
       "    </tr>\n",
       "    <tr>\n",
       "      <th>1</th>\n",
       "      <td>0.006481</td>\n",
       "      <td>0.000497</td>\n",
       "      <td>0.001394</td>\n",
       "      <td>0.000486</td>\n",
       "      <td>gini</td>\n",
       "      <td>5</td>\n",
       "      <td>20</td>\n",
       "      <td>{'DCT__criterion': 'gini', 'DCT__max_depth': 5...</td>\n",
       "      <td>0.933333</td>\n",
       "      <td>0.933333</td>\n",
       "      <td>...</td>\n",
       "      <td>1.0</td>\n",
       "      <td>0.857143</td>\n",
       "      <td>1.0</td>\n",
       "      <td>1.0</td>\n",
       "      <td>0.928571</td>\n",
       "      <td>0.857143</td>\n",
       "      <td>0.928571</td>\n",
       "      <td>0.936667</td>\n",
       "      <td>0.0499</td>\n",
       "      <td>13</td>\n",
       "    </tr>\n",
       "    <tr>\n",
       "      <th>2</th>\n",
       "      <td>0.006841</td>\n",
       "      <td>0.000708</td>\n",
       "      <td>0.001784</td>\n",
       "      <td>0.001171</td>\n",
       "      <td>gini</td>\n",
       "      <td>10</td>\n",
       "      <td>10</td>\n",
       "      <td>{'DCT__criterion': 'gini', 'DCT__max_depth': 1...</td>\n",
       "      <td>0.933333</td>\n",
       "      <td>0.933333</td>\n",
       "      <td>...</td>\n",
       "      <td>1.0</td>\n",
       "      <td>0.857143</td>\n",
       "      <td>1.0</td>\n",
       "      <td>1.0</td>\n",
       "      <td>0.928571</td>\n",
       "      <td>0.928571</td>\n",
       "      <td>0.928571</td>\n",
       "      <td>0.936667</td>\n",
       "      <td>0.0499</td>\n",
       "      <td>13</td>\n",
       "    </tr>\n",
       "    <tr>\n",
       "      <th>3</th>\n",
       "      <td>0.006679</td>\n",
       "      <td>0.000633</td>\n",
       "      <td>0.001698</td>\n",
       "      <td>0.000644</td>\n",
       "      <td>gini</td>\n",
       "      <td>10</td>\n",
       "      <td>20</td>\n",
       "      <td>{'DCT__criterion': 'gini', 'DCT__max_depth': 1...</td>\n",
       "      <td>0.933333</td>\n",
       "      <td>0.933333</td>\n",
       "      <td>...</td>\n",
       "      <td>1.0</td>\n",
       "      <td>0.857143</td>\n",
       "      <td>1.0</td>\n",
       "      <td>1.0</td>\n",
       "      <td>0.928571</td>\n",
       "      <td>0.857143</td>\n",
       "      <td>0.928571</td>\n",
       "      <td>0.936667</td>\n",
       "      <td>0.0499</td>\n",
       "      <td>13</td>\n",
       "    </tr>\n",
       "    <tr>\n",
       "      <th>4</th>\n",
       "      <td>0.006885</td>\n",
       "      <td>0.000527</td>\n",
       "      <td>0.001296</td>\n",
       "      <td>0.000457</td>\n",
       "      <td>gini</td>\n",
       "      <td>15</td>\n",
       "      <td>10</td>\n",
       "      <td>{'DCT__criterion': 'gini', 'DCT__max_depth': 1...</td>\n",
       "      <td>0.933333</td>\n",
       "      <td>0.933333</td>\n",
       "      <td>...</td>\n",
       "      <td>1.0</td>\n",
       "      <td>0.857143</td>\n",
       "      <td>1.0</td>\n",
       "      <td>1.0</td>\n",
       "      <td>0.928571</td>\n",
       "      <td>0.928571</td>\n",
       "      <td>0.928571</td>\n",
       "      <td>0.936667</td>\n",
       "      <td>0.0499</td>\n",
       "      <td>13</td>\n",
       "    </tr>\n",
       "  </tbody>\n",
       "</table>\n",
       "<p>5 rows × 21 columns</p>\n",
       "</div>"
      ],
      "text/plain": [
       "   mean_fit_time  std_fit_time  mean_score_time  std_score_time  \\\n",
       "0       0.012665      0.007491         0.002294        0.001098   \n",
       "1       0.006481      0.000497         0.001394        0.000486   \n",
       "2       0.006841      0.000708         0.001784        0.001171   \n",
       "3       0.006679      0.000633         0.001698        0.000644   \n",
       "4       0.006885      0.000527         0.001296        0.000457   \n",
       "\n",
       "  param_DCT__criterion param_DCT__max_depth param_DCT__random_state  \\\n",
       "0                 gini                    5                      10   \n",
       "1                 gini                    5                      20   \n",
       "2                 gini                   10                      10   \n",
       "3                 gini                   10                      20   \n",
       "4                 gini                   15                      10   \n",
       "\n",
       "                                              params  split0_test_score  \\\n",
       "0  {'DCT__criterion': 'gini', 'DCT__max_depth': 5...           0.933333   \n",
       "1  {'DCT__criterion': 'gini', 'DCT__max_depth': 5...           0.933333   \n",
       "2  {'DCT__criterion': 'gini', 'DCT__max_depth': 1...           0.933333   \n",
       "3  {'DCT__criterion': 'gini', 'DCT__max_depth': 1...           0.933333   \n",
       "4  {'DCT__criterion': 'gini', 'DCT__max_depth': 1...           0.933333   \n",
       "\n",
       "   split1_test_score  ...  split3_test_score  split4_test_score  \\\n",
       "0           0.933333  ...                1.0           0.857143   \n",
       "1           0.933333  ...                1.0           0.857143   \n",
       "2           0.933333  ...                1.0           0.857143   \n",
       "3           0.933333  ...                1.0           0.857143   \n",
       "4           0.933333  ...                1.0           0.857143   \n",
       "\n",
       "   split5_test_score  split6_test_score  split7_test_score  split8_test_score  \\\n",
       "0                1.0                1.0           0.928571           0.928571   \n",
       "1                1.0                1.0           0.928571           0.857143   \n",
       "2                1.0                1.0           0.928571           0.928571   \n",
       "3                1.0                1.0           0.928571           0.857143   \n",
       "4                1.0                1.0           0.928571           0.928571   \n",
       "\n",
       "   split9_test_score  mean_test_score  std_test_score  rank_test_score  \n",
       "0           0.928571         0.936667          0.0499               13  \n",
       "1           0.928571         0.936667          0.0499               13  \n",
       "2           0.928571         0.936667          0.0499               13  \n",
       "3           0.928571         0.936667          0.0499               13  \n",
       "4           0.928571         0.936667          0.0499               13  \n",
       "\n",
       "[5 rows x 21 columns]"
      ]
     },
     "execution_count": 19,
     "metadata": {},
     "output_type": "execute_result"
    }
   ],
   "source": [
    "grid_cv_df.head(5)"
   ]
  },
  {
   "cell_type": "code",
   "execution_count": 20,
   "metadata": {},
   "outputs": [
    {
     "data": {
      "text/plain": [
       "0.8611111111111112"
      ]
     },
     "execution_count": 20,
     "metadata": {},
     "output_type": "execute_result"
    }
   ],
   "source": [
    "grid_cv.score(x_test, y_test)"
   ]
  },
  {
   "cell_type": "code",
   "execution_count": 21,
   "metadata": {},
   "outputs": [
    {
     "name": "stdout",
     "output_type": "stream",
     "text": [
      "{'DCT__criterion': 'entropy', 'DCT__max_depth': 5, 'DCT__random_state': 20}\n"
     ]
    }
   ],
   "source": [
    "print(grid_cv.best_params_)"
   ]
  }
 ],
 "metadata": {
  "kernelspec": {
   "display_name": "Python 3",
   "language": "python",
   "name": "python3"
  },
  "language_info": {
   "codemirror_mode": {
    "name": "ipython",
    "version": 3
   },
   "file_extension": ".py",
   "mimetype": "text/x-python",
   "name": "python",
   "nbconvert_exporter": "python",
   "pygments_lexer": "ipython3",
   "version": "3.6.8"
  }
 },
 "nbformat": 4,
 "nbformat_minor": 2
}
